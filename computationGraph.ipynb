{
 "cells": [
  {
   "cell_type": "code",
   "execution_count": 1,
   "metadata": {},
   "outputs": [],
   "source": [
    "import torch\n",
    "import torch.nn as nn\n",
    "import torch.optim as optim\n",
    "from torch.utils.tensorboard import SummaryWriter\n",
    "\n",
    "class SimpleAutoencoder(nn.Module):\n",
    "    def __init__(self):\n",
    "        super(SimpleAutoencoder, self).__init__()\n",
    "        self.encoder = nn.Sequential(\n",
    "            nn.Linear(1000, 512),\n",
    "            nn.ReLU(True),\n",
    "            nn.Linear(512, 32),\n",
    "        )\n",
    "        self.decoder = nn.Sequential(\n",
    "            nn.Linear(32, 512),\n",
    "            nn.ReLU(True),\n",
    "            nn.Linear(512, 1000),\n",
    "            nn.Sigmoid()\n",
    "        )\n",
    "\n",
    "    def forward(self, x):\n",
    "        x = self.encoder(x)\n",
    "        x = self.decoder(x)\n",
    "        return x\n"
   ]
  },
  {
   "cell_type": "code",
   "execution_count": 2,
   "metadata": {},
   "outputs": [
    {
     "name": "stdout",
     "output_type": "stream",
     "text": [
      "Computational graph successfully written to TensorBoard.\n"
     ]
    }
   ],
   "source": [
    "# Create a dummy input\n",
    "dummy_input = torch.rand(1, 1000)  # Batch size of 1, 1000-dimensional input\n",
    "\n",
    "# Instantiate the autoencoder\n",
    "model = SimpleAutoencoder()\n",
    "\n",
    "# Initialize the TensorBoard writer\n",
    "writer = SummaryWriter('runs/simple_autoencoder_experiment')\n",
    "\n",
    "# Write the model graph to TensorBoard\n",
    "writer.add_graph(model, dummy_input)\n",
    "\n",
    "# Close the writer\n",
    "writer.close()\n",
    "\n",
    "print(\"Computational graph successfully written to TensorBoard.\")\n"
   ]
  }
 ],
 "metadata": {
  "kernelspec": {
   "display_name": "Python 3",
   "language": "python",
   "name": "python3"
  },
  "language_info": {
   "codemirror_mode": {
    "name": "ipython",
    "version": 3
   },
   "file_extension": ".py",
   "mimetype": "text/x-python",
   "name": "python",
   "nbconvert_exporter": "python",
   "pygments_lexer": "ipython3",
   "version": "3.9.18"
  }
 },
 "nbformat": 4,
 "nbformat_minor": 2
}
