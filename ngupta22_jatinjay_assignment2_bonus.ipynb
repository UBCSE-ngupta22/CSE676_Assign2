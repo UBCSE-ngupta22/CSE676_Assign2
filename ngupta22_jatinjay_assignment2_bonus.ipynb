{
 "cells": [
  {
   "cell_type": "code",
   "execution_count": null,
   "metadata": {},
   "outputs": [],
   "source": []
  },
  {
   "cell_type": "markdown",
   "metadata": {},
   "source": [
    "# References\n",
    "\n",
    "1. https://pandas.pydata.org/docs/\n",
    "1. https://numpy.org/doc/\n",
    "1. https://matplotlib.org/stable/index.html\n",
    "1. https://scikit-learn.org/stable/\n",
    "1. https://seaborn.pydata.org/\n",
    "1. https://pytorch.org/tutorials/\n",
    "1. https://pytorch.org/vision/main/models/vision_transformer.html\n",
    "1. https://medium.com/@brianpulfer/vision-transformers-from-scratch-pytorch-a-step-by-step-guide-96c3313c2e0c\n",
    "1. Data Loading and Processing is based on CSE 676 Deep Learning Assignment 1 Part 1 submission by Nikhil Gupta"
   ]
  }
 ],
 "metadata": {
  "language_info": {
   "name": "python"
  }
 },
 "nbformat": 4,
 "nbformat_minor": 2
}
